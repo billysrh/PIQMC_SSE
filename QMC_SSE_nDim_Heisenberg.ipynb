{
 "cells": [
  {
   "cell_type": "markdown",
   "metadata": {},
   "source": [
    "# SSE algorithm for n-dimensional Heisenberg model"
   ]
  },
  {
   "cell_type": "markdown",
   "metadata": {},
   "source": [
    "This program is a python implementation of quantum monte carlo method, using SSE algorithm to find properties of $S=\\frac{1}{2}$ Heisenberg model of arbitary dimension at finite temperature."
   ]
  },
  {
   "cell_type": "code",
   "execution_count": 1,
   "metadata": {},
   "outputs": [],
   "source": [
    "import numpy as np\n",
    "import matplotlib.pyplot as plt\n",
    "from tqdm import tqdm\n",
    "from numba import jit\n",
    "import multiprocessing as mp\n",
    "%config InlineBackend.figure_format = 'svg' "
   ]
  },
  {
   "cell_type": "markdown",
   "metadata": {},
   "source": [
    "## 1. General principles\n",
    "We are interested in the partition function\n",
    "$$\n",
    "Z = \\text{Tr}(e^{-\\beta H})\n",
    "$$\n",
    "\n",
    "To calculate this, we use the Path Integral Quantum Monte Carlo(PIQMC) method and Taylor expansion, so we can rewrite the partition function as\n",
    "$$\n",
    "Z = \\sum_{\\alpha} \\sum_{n=0}^{\\infty} \\frac{\\beta^n}{n!} \\langle \\alpha | (-H)^n | \\alpha \\rangle\n",
    "$$\n",
    "\n",
    "The hamiltonian of interest is written as \n",
    "$$\n",
    "H = -\\sum_{a,b} H_{a,b}\n",
    "$$\n",
    "where $a$ refers to the operator type and $b$ refers to the bond index."
   ]
  },
  {
   "cell_type": "markdown",
   "metadata": {},
   "source": [
    "In the series expansion, the length $n$ is varying and makes coding difficult.\n",
    "To deal with this, we choose a cut-off length $M$\n",
    "(actually chosen by program auomatically to ensure the truncation error is negligble, which requires $M$ proportional to $\\beta E$) \n",
    "and insert indentity operator $H_{0,0}$ to augment all strings with $n<M$ to length $M$。\n",
    "\n",
    "The final form of partition function looks like\n",
    "$$\n",
    "Z = \\sum_{\\alpha} \\sum_{\\{H_{ab}\\}} \\frac{\\beta^n (M-n)!}{M!} \\left\\langle \\alpha \\left| \\prod_{i=1}^{M} H_{a(i),b(i)} \\right|\\alpha \\right\\rangle\n",
    "$$"
   ]
  },
  {
   "cell_type": "markdown",
   "metadata": {},
   "source": [
    "## 2. Bond lable\n",
    "\n",
    "Every bond has to be mapped to a integer, so the final problem will always be a 1D problem.\n",
    "\n",
    "In a n-D space, a site index looks like $ (i_1, i_2, \\dots, i_n), i_k=0,1,\\dots,L-1 $, and it has $2n$ bonds related to itself.\n",
    "Every bond connects two sites, so with periodic boundary condition, every site has to label $n$ bonds.\n",
    "\n",
    "The site $ (i_1, i_2, \\dots, i_n) $ is labeled by\n",
    "$$\n",
    "\\text{site} = i_1  + i_2 L +\\dots + i_n L^{n-1}\n",
    "$$\n",
    "ranges from $0$ to $L^n-1$.\n",
    "\n",
    "We define the bond which connects site1=$ (i_1, i_2, \\dots, i_k, \\dots, i_n) $ and site2=$ (i_1, i_2, \\dots, i_k+1, \\dots i_n) $ as \n",
    "$$\n",
    "\\text{bond} = \\text{site1}*n + (k-1) +1 = \\text{site1}*n + k\n",
    "$$\n",
    "\n",
    "In this coding, bond num ranges from $1$ to $nL^n$."
   ]
  },
  {
   "cell_type": "code",
   "execution_count": 4,
   "metadata": {},
   "outputs": [],
   "source": [
    "@jit(nopython=True)\n",
    "def site_num(index, L):\n",
    "    n = index.shape[0]\n",
    "    s = (index * L**np.arange(n)).sum()\n",
    "    return int(s)\n",
    "\n",
    "@jit(nopython=True)\n",
    "def site_index(num, n, L):\n",
    "    index = np.zeros(n)\n",
    "    for i in range(n):\n",
    "        index[i] = num%L\n",
    "        num = num//L\n",
    "    return index\n",
    "\n",
    "@jit(nopython=True)\n",
    "def bond_num(site_num, n, k):\n",
    "    return site_num*n+k\n",
    "\n",
    "@jit(nopython=True)\n",
    "def get_bond_sites(bond_num, n, L):\n",
    "    site1 = int((bond_num-1)//n)\n",
    "    k1 = int((bond_num-1)%n)\n",
    "\n",
    "    site1_index = site_index(site1, n, L)\n",
    "    site2_index = site1_index.copy()\n",
    "    site2_index[k1] = (site2_index[k1]+1)%L\n",
    "    site2 = site_num(site2_index, L)\n",
    "\n",
    "    return site1, site2"
   ]
  },
  {
   "cell_type": "markdown",
   "metadata": {},
   "source": [
    "## 3. Spin configuration and operator string\n",
    "The original hamitonion of the antiferromagnetic Heisenberg model is\n",
    "$$\n",
    "H = J\\sum_{\\langle i,j \\rangle} \\mathbf{S}_i \\cdot \\mathbf{S}_j\n",
    "$$\n",
    "with $J>0$, so here we choose $J=1$.\n",
    "\n",
    "We introduce the diagonal(a=1) and off-diagonal(a=2) bond operators:\n",
    "$$\n",
    "H_{1,b} = \\frac{1}{4} - S^z_{i(b)}S^z_{j(b)}\\\\\n",
    "H_{2,b} = \\frac{1}{2}\\left( S^{+}_{i(b)}S^{-}_{j(b)} + S^{-}_{i(b)}S^{+}_{j(b)} \\right)\n",
    "$$\n",
    "in terms of which the hamitonian is \n",
    "$$\n",
    "H = -\\sum_{b=1}^{B} \\sum_{a=1}^{2} H_{a,b}\n",
    "$$\n",
    "\n",
    "Only anti-parallel spins may contribute a factor $\\frac{1}{2}$, otherwise $0$. \n",
    "This gives a constraint on the update process."
   ]
  },
  {
   "cell_type": "markdown",
   "metadata": {},
   "source": [
    "In the SSE algorithm, an element in the partition function look like\n",
    "$$\n",
    "\\prod_{p=0}^{M-1} H_{a(p),b(p)}\n",
    "$$\n",
    "so it's natural to use an integer to encode both $a(p)$ and $b(p)$:\n",
    "$$\n",
    "\\text{opstring[p]} = 2b(p) + a(p) -1\n",
    "$$\n",
    "and naturally if there's identity at p, opstring[p]=0."
   ]
  },
  {
   "cell_type": "markdown",
   "metadata": {},
   "source": [
    "We also need to store the spin configuration at the moment, and use it to construct the linked vertex list:\n",
    "$$\n",
    "\\text{spin[i]} = 2S^z_i = 1 \\, or \\, -1\n",
    "$$"
   ]
  },
  {
   "cell_type": "markdown",
   "metadata": {},
   "source": [
    "## 4. Linked vertex list"
   ]
  },
  {
   "cell_type": "markdown",
   "metadata": {},
   "source": [
    "For a bond operator, no matter what kind it is, we label the site1 of the input leg0, site2 of the input leg1,\n",
    "site1 of the output leg2, and site2 of the output leg3.\n",
    "In the program, we only need to know how the legs are linked instead of the spin configuration at any moment,\n",
    "so it saves a lot of memory.\n",
    "The vertex leg at bond p can be identified by an integer:\n",
    "$$\n",
    "v=4p+l(p)\n",
    "$$\n",
    "it ranges from $0$ to $4M-1$.\n",
    "\n",
    "To construct the linked vertex list from opstring, we can store the first visited operator and last visited operator of every spin."
   ]
  },
  {
   "cell_type": "code",
   "execution_count": 5,
   "metadata": {},
   "outputs": [],
   "source": [
    "@jit(nopython=True)\n",
    "def construct_vertexlist(opstring, n, L, beta):\n",
    "    M = opstring.shape[0]\n",
    "    frstspinop = np.zeros(L**n, dtype=np.int32)-1\n",
    "    lastspinop = np.zeros(L**n, dtype=np.int32)-1\n",
    "    vertexlist = np.zeros(4*M, dtype=np.int32)-1\n",
    "\n",
    "    for v in np.arange(M)*4:  # v->v+4, visit each op only once\n",
    "        p = v//4\n",
    "        op = opstring[p]\n",
    "        # if the op isnt identity\n",
    "        if op!=0:\n",
    "            bond = op//2\n",
    "            site1, site2 = get_bond_sites(bond, n, L)\n",
    "            v1 = lastspinop[site1]\n",
    "            v2 = lastspinop[site2]\n",
    "\n",
    "            # if site1 has visited some op\n",
    "            if v1!=-1:\n",
    "                vertexlist[v1] = v\n",
    "                vertexlist[v] = v1\n",
    "            else:\n",
    "                frstspinop[site1] = v\n",
    "\n",
    "            # if site2 has visited some op\n",
    "            if v2!=-1:\n",
    "                vertexlist[v2] = v+1\n",
    "                vertexlist[v+1] = v2\n",
    "            else:\n",
    "                frstspinop[site2] = v+1\n",
    "\n",
    "            # move on, update the visited op\n",
    "            lastspinop[site1] = v+2\n",
    "            lastspinop[site2] = v+3\n",
    "\n",
    "        # the op is identity, vertex at this p should all be 0\n",
    "        else:\n",
    "            vertexlist[v:v+4] = -1\n",
    "\n",
    "    # periodic boundary condition\n",
    "    for spin in range(L**n):\n",
    "        v1 = frstspinop[spin]\n",
    "        if v1!=-1:\n",
    "            v2 = lastspinop[spin]\n",
    "            vertexlist[v1] = v2\n",
    "            vertexlist[v2] = v1\n",
    "    \n",
    "\n",
    "    freespin = (frstspinop==-1)\n",
    "    return vertexlist, freespin, frstspinop"
   ]
  },
  {
   "cell_type": "markdown",
   "metadata": {},
   "source": [
    "## 5. Sampling\n",
    "With two allowed configurations A and B, connected by one update, we have to find the probability of whether to accept the update.\n",
    "In general, \n",
    "$$\n",
    "P_{accept}(A\\rightarrow B) = \\text{min}\\left(\\frac{W(B) P_{select}(B\\rightarrow A)}{W(A) P_{select}(A\\rightarrow B)}, 1\\right)\n",
    "$$\n",
    "where $W(A)$ is the weight of $A$ in $Z$.\n",
    "\n",
    "In the diagonal update, the probability is simple to calculate."
   ]
  },
  {
   "cell_type": "code",
   "execution_count": 6,
   "metadata": {},
   "outputs": [],
   "source": [
    "@jit(nopython=True)\n",
    "def P_accept_insert(B, beta, M, n):\n",
    "    return min(B*beta/2/(M-n), 1)\n",
    "\n",
    "@jit(nopython=True)\n",
    "def P_accept_remove(B, beta, M, n):\n",
    "    return min((M-n+1)*2/B/beta, 1)"
   ]
  },
  {
   "cell_type": "markdown",
   "metadata": {},
   "source": [
    "## 6. Diagnol update\n",
    "This is the only way to change operator number in the configuration.\n",
    "We propagate the spin configuration according to ``opstring``,\n",
    "and change ``opstring`` at the same time.\n",
    "If there's already a diagonal operator, remove it with $P_{remove}$,\n",
    "if there's no operator, choose a bond randomly and insert a diagonal operator with $P_{insert}$,\n",
    "or thers's an off-diagonal operator, then just change the spin configuration .\n",
    "\n",
    "We do the measurement of magnetization at this stage to save computation cost."
   ]
  },
  {
   "cell_type": "code",
   "execution_count": 7,
   "metadata": {},
   "outputs": [],
   "source": [
    "@jit(nopython=True)\n",
    "def diag_update(opstring, spin, n, L, beta):\n",
    "    # number of hamiltonion\n",
    "    nh = (opstring!=0).sum()\n",
    "    M = opstring.shape[0]\n",
    "    B = n*L**n\n",
    "\n",
    "    am = 0\n",
    "    am1 = am2 = 0\n",
    "\n",
    "    # calculate the mag at first\n",
    "    for i in range(spin.shape[0]):\n",
    "        index = site_index(i, n, L)\n",
    "        am += spin[i]*(-1)**np.sum(index)\n",
    "    am /= 2\n",
    "\n",
    "    for p in range(M):\n",
    "        op = opstring[p]\n",
    "        # op is identity, try to insert\n",
    "        if op==0:\n",
    "            prob = P_accept_insert(B, beta, M, nh)\n",
    "            rand_bond = np.random.randint(1,B+1)\n",
    "            site1, site2 = get_bond_sites(rand_bond, n, L)\n",
    "            if spin[site1]!=spin[site2] and np.random.rand()<prob:\n",
    "                opstring[p] = 2*rand_bond\n",
    "                nh += 1\n",
    "        \n",
    "        # op is diag, try to remove\n",
    "        elif op%2==0:\n",
    "            prob = P_accept_remove(B, beta, M, nh)\n",
    "            if np.random.rand()<prob:\n",
    "                opstring[p] = 0\n",
    "                nh -= 1\n",
    "\n",
    "        # op is off-diag, only flip spin\n",
    "        else:\n",
    "            bond = op//2\n",
    "            site1, site2 = get_bond_sites(bond, n, L)\n",
    "            spin[site1] *= -1\n",
    "            spin[site2] *= -1\n",
    "\n",
    "            am += 2*spin[site1]*(-1)**np.sum(site_index(site1, n, L))\n",
    "            \n",
    "        am2 += am**2\n",
    "        am1 += abs(am)\n",
    "\n",
    "    am2 /= M\n",
    "    am1 /= M\n",
    "    \n",
    "    return opstring, am1, am2"
   ]
  },
  {
   "cell_type": "markdown",
   "metadata": {},
   "source": [
    "## 7. Spin update\n",
    "There are two kinds of spin that might be flipped:\n",
    "if the spin is in some loop that needs to be flipped, then the spin must be flipped;\n",
    "or if the spin doesn't meet any operator, then this free spin should be flipped with some probability."
   ]
  },
  {
   "cell_type": "code",
   "execution_count": 8,
   "metadata": {},
   "outputs": [],
   "source": [
    "@jit(nopython=True)\n",
    "def spin_update(spin, freespin, vertexlist, frstspinop):\n",
    "    for s in range(spin.shape[0]):\n",
    "        # flip free spin with prob\n",
    "        if freespin[s] and np.random.rand()<0.5:\n",
    "            spin[s] *= -1\n",
    "        # flip spins in flipped loop\n",
    "        elif vertexlist[frstspinop[s]]==-2:\n",
    "            spin[s] *= -1\n",
    "\n",
    "    return spin"
   ]
  },
  {
   "cell_type": "markdown",
   "metadata": {},
   "source": [
    "## 8. Loop update\n",
    "The whole vertex list can be splitted into loops, because every leg belongs and only belongs to one loop.\n",
    "Therefore, we can flip each loop without changing the weight and the off-diagonal pairing.\n",
    "This update method is much more efficient than flip one operator at a time.\n",
    "Only changes ``opstring``, reconstruct the vertex list later."
   ]
  },
  {
   "cell_type": "markdown",
   "metadata": {},
   "source": [
    "We measure susceptibility while we go through the vertex list in loop update to save computation cost. This is an optimized estimator \n",
    "$$\n",
    "\\chi = \\frac{\\beta}{4N_{site}} \\left\\langle \\sum_{\\text{all loop}}\n",
    "\\left( \\sum_{\\text{site}=1}^{n_j} \\phi_i \\right)^2 \\right\\rangle\n",
    "$$\n",
    "which is better in statistical efficiency than the original one, as we'll see in the results."
   ]
  },
  {
   "cell_type": "code",
   "execution_count": 9,
   "metadata": {},
   "outputs": [],
   "source": [
    "@jit(nopython=True)\n",
    "def off_diagonal_update(opstring, vertexlist, n, L, spin):\n",
    "    v_num = vertexlist.shape[0]\n",
    "    sus = 0\n",
    "    M = opstring.shape[0]\n",
    "\n",
    "    # dont need to start from spins that must be in the same loop\n",
    "    for v_ini in range(0, v_num-1, 2):\n",
    "        # vertex isnt in any loop\n",
    "        if vertexlist[v_ini]<0:\n",
    "            continue\n",
    "\n",
    "        v1 = v_ini\n",
    "        loop_sus = 0\n",
    "        # choose whether to flip before loop search\n",
    "        if np.random.rand()<0.5:\n",
    "            while True:\n",
    "                p1 = v1//4\n",
    "                opstring[p1] = int(opstring[p1])^1  #change op type\n",
    "                vertexlist[v1] = -2                 #v1 is visited，and spin need to be fliped\n",
    "                v2 = v1^1                           #v2 is next to v1\n",
    "                v1 = vertexlist[v2]                 #find the vertex linked with v2\n",
    "                p2 = v1//4\n",
    "                vertexlist[v2] = -2                 #v2 is visited\n",
    "\n",
    "                # spin in the loop\n",
    "                leg = v1%4\n",
    "\n",
    "                if (p1<p2 and leg>1) or (p1>p2 and leg<2) or (p1==p2):\n",
    "                    loop_sus += spin[get_bond_sites(opstring[p2]//2, n, L)[leg%2]]\n",
    "\n",
    "                if v1==v_ini:\n",
    "                    break\n",
    "        else:\n",
    "            while True:\n",
    "                p1 = v1//4\n",
    "                vertexlist[v1] = -3                 #v1 is visited\n",
    "                v2 = v1^1                           #v2 is next to v1\n",
    "                v1 = vertexlist[v2]                 #find the vertex linked with v2\n",
    "                p2 = v1//4\n",
    "                vertexlist[v2] = -3                 #v2 is visited\n",
    "\n",
    "                # spin in the loop\n",
    "                leg = v1%4\n",
    "\n",
    "                if (p1<p2 and leg>1) or (p1>p2 and leg<2) or (p1==p2):\n",
    "                    loop_sus += spin[get_bond_sites(opstring[p2]//2, n, L)[leg%2]]\n",
    "\n",
    "                if v1==v_ini:\n",
    "                    break\n",
    "\n",
    "        sus += loop_sus**2\n",
    "        \n",
    "    return opstring, vertexlist, sus"
   ]
  },
  {
   "cell_type": "markdown",
   "metadata": {},
   "source": [
    "## 9. Measurement"
   ]
  },
  {
   "cell_type": "code",
   "execution_count": 10,
   "metadata": {},
   "outputs": [],
   "source": [
    "def correlation(spin, n, L, d):\n",
    "    spin = spin.reshape([L]*n)\n",
    "    c = 0\n",
    "    for i in range(n):\n",
    "        c += np.sum(np.roll(spin, d, axis=i) * spin)\n",
    "    c /= n*L**n\n",
    "    return c"
   ]
  },
  {
   "cell_type": "code",
   "execution_count": 11,
   "metadata": {},
   "outputs": [],
   "source": [
    "def SSE_algo(inp):\n",
    "    n, L, beta, warmup, Iter, need_cor, d = inp\n",
    "    spin = np.ones(L**n, dtype=int)\n",
    "    B = n*L**n\n",
    "    opstring = np.zeros(10, dtype=int)\n",
    "    sweep = 1\n",
    "    c = 0\n",
    "    nh_acc = nh2_acc = m_acc = m2_acc = ususc = cor = opt_ususc = free = 0\n",
    "\n",
    "    for sweep in range(Iter):\n",
    "        opstring, am1, am2= diag_update(opstring, spin, n, L, beta)\n",
    "        vertexlist, freespin, frstspinop = construct_vertexlist(opstring, n, L, beta)\n",
    "        opstring, vertexlist, sus = off_diagonal_update(opstring, vertexlist, n, L, spin)\n",
    "        spin = spin_update(spin, freespin, vertexlist, frstspinop)\n",
    "\n",
    "        nh = (opstring!=0).sum()\n",
    "        if sweep>warmup:\n",
    "            # measure sus and eng\n",
    "            m2_acc += am2\n",
    "            m_acc += am1\n",
    "            ususc += (spin.sum()/2)**2\n",
    "\n",
    "            nh_acc += nh\n",
    "            nh2_acc += nh**2\n",
    "            \n",
    "            if need_cor:\n",
    "                cor += correlation(spin, n, L, d)\n",
    "            \n",
    "            opt_ususc += sus + freespin.sum()\n",
    "            free += freespin.sum()\n",
    "            \n",
    "            c += 1\n",
    "\n",
    "        cutoff = opstring.shape[0]\n",
    "        new_cutoff = 4*nh//3\n",
    "            \n",
    "        if new_cutoff>cutoff:\n",
    "            new_opstring = np.zeros(new_cutoff)\n",
    "            new_opstring[:cutoff] = opstring\n",
    "            opstring = new_opstring\n",
    "\n",
    "    nh_acc /= c\n",
    "    nh2_acc /= c\n",
    "    m2_acc /= c\n",
    "    m_acc /= c\n",
    "    ususc /= c\n",
    "    cor /= c*4\n",
    "\n",
    "    opt_ususc /= c\n",
    "    free /= c\n",
    "\n",
    "    energy = (-nh_acc/beta + B/4)/L**n\n",
    "    cap = (nh2_acc-nh_acc-nh_acc**2)/L**n\n",
    "    m2_acc *= 3/L**(2*n)\n",
    "    m_acc *= 1/L**n\n",
    "    ususc *= beta/L**n\n",
    "    opt_ususc *= beta/4/L**n\n",
    "    free *= beta/4/L**n\n",
    "\n",
    "    return energy, cap, m_acc, m2_acc, ususc, cor, opt_ususc, free"
   ]
  },
  {
   "cell_type": "markdown",
   "metadata": {},
   "source": [
    "Use ``multiprocessing`` to parallel the task."
   ]
  },
  {
   "cell_type": "code",
   "execution_count": 12,
   "metadata": {},
   "outputs": [],
   "source": [
    "def simulate(n, L, beta, warmup, Iter, need_cor=False, d=1, worker=-1):\n",
    "    if worker==-1:\n",
    "        worker = mp.cpu_count()-2\n",
    "    \n",
    "    inp = [n, L, beta, warmup, Iter, need_cor, d]\n",
    "    with mp.Pool(processes=worker) as pool:\n",
    "        res = pool.map(SSE_algo, [inp]*worker)\n",
    "        res = np.array(res)\n",
    "        ans = np.average(res, axis=0)\n",
    "        err = np.sqrt((np.average(res**2, axis=0) - ans**2)/worker)\n",
    "        return ans, err"
   ]
  },
  {
   "cell_type": "markdown",
   "metadata": {},
   "source": [
    "## 10. Results"
   ]
  },
  {
   "cell_type": "markdown",
   "metadata": {},
   "source": [
    "### Basic properties of 2D 4 $\\times$ 4 lattice\n",
    "The results are calculated with ``warmup``=10000 and ``Iter``=200000."
   ]
  },
  {
   "cell_type": "markdown",
   "metadata": {},
   "source": [
    "![](./img/2D_basic_property.png)"
   ]
  },
  {
   "cell_type": "markdown",
   "metadata": {},
   "source": [
    "### Magnetic susceptibility in different lattice\n",
    "\n",
    "The parity of L changes the low-T behavior of $\\chi$, which goes to 0 with even L and diverge with odd L.\n",
    "But they are the same at high-T.\n",
    "![](./img/chi_odd_even.png)"
   ]
  },
  {
   "cell_type": "markdown",
   "metadata": {},
   "source": [
    "For even L, the $\\chi$ goes to a finite value when L goes larger.\n",
    "![](./img/chi_L.png)"
   ]
  },
  {
   "cell_type": "markdown",
   "metadata": {},
   "source": [
    "### Ground state energy of 1D chain\n",
    "Chain length=512, warmup=2000, Iter=10000."
   ]
  },
  {
   "cell_type": "markdown",
   "metadata": {},
   "source": [
    "![](./img/1D_eng.png)"
   ]
  },
  {
   "cell_type": "markdown",
   "metadata": {},
   "source": [
    "### Ground state $\\langle m_s^2 \\rangle$ at different lattice"
   ]
  },
  {
   "cell_type": "markdown",
   "metadata": {},
   "source": [
    "$\\langle m_s^2 \\rangle$ is linear with $1/L$ at ground state. \n",
    "On infinte lattice where $1/L=0$, $\\sqrt{\\langle m_s^2 \\rangle}=\\sqrt{b}=0.299$, which is 2.6% lower than the exact result(0.307), because the beta used here is not high enough($beta=2^{10}$).\n",
    "![](./img/2D_ms_L.png)"
   ]
  },
  {
   "cell_type": "markdown",
   "metadata": {},
   "source": [
    "### Improved estimator"
   ]
  },
  {
   "cell_type": "markdown",
   "metadata": {},
   "source": [
    "To fully exploit the propogation of state, we calculate $\\langle m_z^2 \\rangle$ at every loop instead of every imaginary time.\n",
    "And because of the great symmetry in the Heisenberg model, the loops which don't cross the boundary has zero magnetization, \n",
    "therefore contribute nothing to $\\langle m_z^2 \\rangle$.\n",
    "This greatly simplifies the final expression:\n",
    "\\begin{align*}\n",
    "\\chi &= \\frac{\\beta}{4N_{site}} \\left\\langle \\sum_{\\text{all loop}}\n",
    "\\left( \\sum_{\\text{site}=1}^{n_j} m^i_z \\right)^2 \\right\\rangle\\\\\n",
    "&= \\frac{\\beta}{4N_{site}} \\left\\langle \\sum_{\\text{all loop cross boundary}}\n",
    "\\left( \\sum m^i_z \\right)^2  \\right\\rangle\n",
    "\\end{align*}"
   ]
  },
  {
   "cell_type": "markdown",
   "metadata": {},
   "source": [
    "The estimator shows much better performance than the standard one, and the advantage is more significant at high-T.\n",
    "![](./img/estimator_error.png)"
   ]
  },
  {
   "cell_type": "markdown",
   "metadata": {},
   "source": [
    "It's also intersting to see how many freespin contribute to the $\\chi$.\n",
    "At low-T the looped-spin contribute the most, and at high-T vice versa, as we expected($P_{insert} >> P_{remove}$ at low-T).\n",
    "![](./img/chi_freespin.png)"
   ]
  },
  {
   "cell_type": "markdown",
   "metadata": {},
   "source": []
  }
 ],
 "metadata": {
  "interpreter": {
   "hash": "31f2aee4e71d21fbe5cf8b01ff0e069b9275f58929596ceb00d14d90e3e16cd6"
  },
  "kernelspec": {
   "display_name": "Python 3.6.13 64-bit",
   "name": "python3"
  },
  "language_info": {
   "codemirror_mode": {
    "name": "ipython",
    "version": 3
   },
   "file_extension": ".py",
   "mimetype": "text/x-python",
   "name": "python",
   "nbconvert_exporter": "python",
   "pygments_lexer": "ipython3",
   "version": "3.6.13"
  }
 },
 "nbformat": 4,
 "nbformat_minor": 2
}
